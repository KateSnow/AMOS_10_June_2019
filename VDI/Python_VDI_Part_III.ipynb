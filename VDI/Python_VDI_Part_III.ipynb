{
 "cells": [
  {
   "cell_type": "markdown",
   "metadata": {},
   "source": [
    "![logo](http://nci.org.au/wp-content/themes/nci/img/img-logo-large.png)\n",
    "\n",
    "-------\n",
    "\n",
    "# Python on the VDI: iPython/Jupyter Notebooks (Part III)\n",
    "\n",
    "\n",
    "\n",
    "### In this notebook:\n",
    "\n",
    "Using iPython Notebooks from the VDI\n",
    "Trouble shooting: can not login VDI?\n",
    "\n",
    "---------------"
   ]
  },
  {
   "cell_type": "markdown",
   "metadata": {
    "collapsed": true
   },
   "source": [
    "### Launching Jupyter (iPython) Notebook\n",
    "\n",
    "    \n",
    "**Quick and easy way (if user-specific packages not required):**\n",
    "\n",
    "Load the `python` and `ipython` modules:\n",
    "\n",
    "    $ module load python3\n",
    "    \n",
    "    $ module load ipython/4.2.0-py3.5\n",
    "    \n",
    "    \n",
    "Launch the Jupyter Notebook application:\n",
    "\n",
    "    $ jupyter notebook\n",
    "   \n",
    "<div class=\"alert alert-info\">\n",
    "<b>NOTE: </b> This will launch the \"Notebook Dashboard\" within a new web browser window. \n",
    "</div>\n",
    "\n",
    "\n",
    "**Using virtual environments:**\n",
    "\n",
    "To use along with customised python packages in a virtual environment, begin by following the steps in **Python on the VDI: Part II**. \n",
    "\n",
    "Once you have a virtual environment setup with your packages (including `Jupyter`), proceed by loading the required modules and activating the virtual environment:\n",
    "\n",
    "    $ module load python3\n",
    "    \n",
    "    $ source <path_to_virtual_environment>/bin/activate\n",
    "    \n",
    "Then, as above, launch the Jupyter Notebook application:\n",
    "\n",
    "    $ jupyter notebook"
   ]
  },
  {
   "cell_type": "markdown",
   "metadata": {},
   "source": [
    "### Using Jupyter notebooks\n",
    "\n",
    "After launching the Jupyter Notebook application, you should see something similar to:\n",
    "\n",
    "![python9](images/python9.png)\n",
    "\n",
    "\n",
    "To start a new notebook, navigate to the **New** menu on the right side of the screen and select **Python 3** (under Notebooks).\n",
    "\n",
    "\n",
    "**Working within notebooks**\n",
    "\n",
    "Jupyter notebooks allow you to combine code along with text, mathematical equations, and images, which make for a nice way to share or display work. \n",
    "\n",
    "![python10](images/python10.png)\n",
    "\n",
    "\n",
    "**Executing code**\n",
    "\n",
    "\n",
    "![python11](images/python11.png)\n",
    "\n",
    "\n",
    "\n",
    "\n",
    "\n",
    "**Shutting down notebooks**\n",
    "\n",
    "Notebooks can be shutdown from the Jupyter Dashboard page or by closing the web browser (**make sure work is saved first**). \n",
    "\n",
    "Back in the terminal window, hit **Control+C** twice to close it all. \n",
    "\n",
    "\n",
    "--------\n",
    "\n",
    "**For more information, see Jupyter's Quick Start Guide:**\n",
    "\n",
    "http://jupyter-notebook-beginner-guide.readthedocs.io/en/latest/index.html\n",
    "\n",
    "--------\n",
    "\n",
    "### Trouble shooting: can not login VDI?\n",
    "\n",
    "After using VDI for a little while, you might not be able to login VDI anymore. It is likely because you run out of space on your VDI session. The problem can often be solved by deleting some unecessary files. Please see instruction of using data transfer note to view, transfer/delete files [here](https://opus.nci.org.au/display/Help/VDI+User+Guide#VDIUserGuide-2.StrudelConfiguration). "
   ]
  }
 ],
 "metadata": {
  "anaconda-cloud": {},
  "kernelspec": {
   "display_name": "Python 3",
   "language": "python",
   "name": "python3"
  },
  "language_info": {
   "codemirror_mode": {
    "name": "ipython",
    "version": 3
   },
   "file_extension": ".py",
   "mimetype": "text/x-python",
   "name": "python",
   "nbconvert_exporter": "python",
   "pygments_lexer": "ipython3",
   "version": "3.7.3"
  }
 },
 "nbformat": 4,
 "nbformat_minor": 1
}
